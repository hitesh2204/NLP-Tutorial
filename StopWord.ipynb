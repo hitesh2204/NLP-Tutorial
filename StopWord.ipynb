{
 "cells": [
  {
   "cell_type": "markdown",
   "metadata": {},
   "source": [
    "## Importing stopword library."
   ]
  },
  {
   "cell_type": "code",
   "execution_count": 1,
   "metadata": {},
   "outputs": [],
   "source": [
    "from nltk.corpus import stopwords\n",
    "from nltk.tokenize import word_tokenize"
   ]
  },
  {
   "cell_type": "markdown",
   "metadata": {},
   "source": [
    "## Finding the stop wod in english language."
   ]
  },
  {
   "cell_type": "code",
   "execution_count": 2,
   "metadata": {},
   "outputs": [
    {
     "name": "stdout",
     "output_type": "stream",
     "text": [
      "{'why', 'that', 'won', 'doesn', 'y', \"isn't\", \"mightn't\", 'too', \"don't\", 'into', 'after', 'now', 'further', 'yourself', 'needn', 'up', 'her', 'very', \"wasn't\", 'she', 'ain', 'wouldn', 'over', 'be', 'any', 'whom', 'against', 'our', 'no', 'their', 'here', 'aren', 'my', \"weren't\", 'hadn', 'how', 'from', \"you've\", 'out', \"shan't\", 'had', 'down', 'do', 'yours', 't', 'than', 's', 'have', 'an', 'is', 'him', 'doing', \"hasn't\", 'where', \"hadn't\", 'what', 'to', 'between', 'these', 'when', 'both', 'itself', 'above', 'a', 'this', \"haven't\", 'but', 'about', 'you', \"you'll\", 'then', 'has', 'on', 'once', 'am', 'below', 've', 'some', 'they', 'me', 'if', 'ourselves', \"didn't\", 'his', 're', 'ours', 'll', 'who', 'so', 'its', 'hers', 'them', 'most', 'we', 'own', 'isn', 'mustn', 'does', 'd', \"doesn't\", \"needn't\", 'by', 'off', 'at', 'and', 'each', 'shouldn', 'he', 'other', 'didn', 'in', 'just', 'few', 'all', 'while', 'those', 'i', 'will', 'himself', 'under', \"you're\", 'm', 'haven', 'only', \"aren't\", 'with', \"it's\", \"couldn't\", 'until', 'did', 'having', 'hasn', 'for', 'herself', 'couldn', 'o', 'not', 'your', 'which', \"you'd\", \"wouldn't\", 'wasn', 'of', 'was', 'mightn', 'being', 'it', \"that'll\", 'again', 'yourselves', 'weren', 'more', 'because', 'been', 'the', \"shouldn't\", 'are', 'or', 'don', 'such', 'during', 'through', \"mustn't\", 'were', 'as', 'nor', \"she's\", 'theirs', 'there', 'same', 'shan', 'can', 'themselves', 'before', \"should've\", 'ma', \"won't\", 'myself', 'should'}\n"
     ]
    }
   ],
   "source": [
    "stop_word=set(stopwords.words('english'))\n",
    "print(stop_word)"
   ]
  },
  {
   "cell_type": "code",
   "execution_count": 3,
   "metadata": {},
   "outputs": [
    {
     "name": "stdout",
     "output_type": "stream",
     "text": [
      "['Hi', 'Hitesh', 'how', 'are', 'you', '?', 'Are', 'you', 'going', 'tonight', 'at', 'party', '?', 'I', 'was', 'very', 'tired', 'last', 'night.Now', 'today', 'I', 'am', 'free', '.']\n"
     ]
    }
   ],
   "source": [
    "example='Hi Hitesh how are you? Are you going tonight at party? I was very tired last night.Now today I am free.'\n",
    "word=word_tokenize(example)\n",
    "print(word)"
   ]
  },
  {
   "cell_type": "code",
   "execution_count": 4,
   "metadata": {},
   "outputs": [
    {
     "name": "stdout",
     "output_type": "stream",
     "text": [
      "['Hi', 'Hitesh', '?', 'Are', 'going', 'tonight', 'party', '?', 'I', 'tired', 'last', 'night.Now', 'today', 'I', 'free', '.']\n"
     ]
    }
   ],
   "source": [
    "filter_word=[]\n",
    "\n",
    "for i in word:\n",
    "    if i not in stop_word:\n",
    "        filter_word.append(i)\n",
    "print(filter_word)"
   ]
  },
  {
   "cell_type": "code",
   "execution_count": 5,
   "metadata": {},
   "outputs": [
    {
     "name": "stdout",
     "output_type": "stream",
     "text": [
      "I have three visions for India. In 3000 years of our history, people from all over \n",
      "               the world have come and invaded us, captured our lands, conquered our minds. \n",
      "               From Alexander onwards, the Greeks, the Turks, the Moguls, the Portuguese, the British,\n",
      "               the French, the Dutch, all of them came and looted us, took over what was ours. \n",
      "               Yet we have not done this to any other nation. We have not conquered anyone. \n",
      "               We have not grabbed their land, their culture, \n",
      "               their history and tried to enforce our way of life on them. \n",
      "               Why? Because we respect the freedom of others.That is why my \n",
      "               first vision is that of freedom. I believe that India got its first vision of \n",
      "               this in 1857, when we started the War of Independence. It is this freedom that\n",
      "               we must protect and nurture and build on. If we are not free, no one will respect us.\n",
      "               My second vision for India’s development. For fifty years we have been a developing nation.\n",
      "               It is time we see ourselves as a developed nation. We are among the top 5 nations of the world\n",
      "               in terms of GDP. We have a 10 percent growth rate in most areas. Our poverty levels are falling.\n",
      "               Our achievements are being globally recognised today. Yet we lack the self-confidence to\n",
      "               see ourselves as a developed nation, self-reliant and self-assured. Isn’t this incorrect?\n",
      "               I have a third vision. India must stand up to the world. Because I believe that unless India \n",
      "               stands up to the world, no one will respect us. Only strength respects strength. We must be \n",
      "               strong not only as a military power but also as an economic power. Both must go hand-in-hand. \n",
      "               My good fortune was to have worked with three great minds. Dr. Vikram Sarabhai of the Dept. of \n",
      "               space, Professor Satish Dhawan, who succeeded him and Dr. Brahm Prakash, father of nuclear material.\n",
      "               I was lucky to have worked with all three of them closely and consider this the great opportunity of my life. \n",
      "               I see four milestones in my career.\n"
     ]
    }
   ],
   "source": [
    "example_2=\"\"\"I have three visions for India. In 3000 years of our history, people from all over \n",
    "               the world have come and invaded us, captured our lands, conquered our minds. \n",
    "               From Alexander onwards, the Greeks, the Turks, the Moguls, the Portuguese, the British,\n",
    "               the French, the Dutch, all of them came and looted us, took over what was ours. \n",
    "               Yet we have not done this to any other nation. We have not conquered anyone. \n",
    "               We have not grabbed their land, their culture, \n",
    "               their history and tried to enforce our way of life on them. \n",
    "               Why? Because we respect the freedom of others.That is why my \n",
    "               first vision is that of freedom. I believe that India got its first vision of \n",
    "               this in 1857, when we started the War of Independence. It is this freedom that\n",
    "               we must protect and nurture and build on. If we are not free, no one will respect us.\n",
    "               My second vision for India’s development. For fifty years we have been a developing nation.\n",
    "               It is time we see ourselves as a developed nation. We are among the top 5 nations of the world\n",
    "               in terms of GDP. We have a 10 percent growth rate in most areas. Our poverty levels are falling.\n",
    "               Our achievements are being globally recognised today. Yet we lack the self-confidence to\n",
    "               see ourselves as a developed nation, self-reliant and self-assured. Isn’t this incorrect?\n",
    "               I have a third vision. India must stand up to the world. Because I believe that unless India \n",
    "               stands up to the world, no one will respect us. Only strength respects strength. We must be \n",
    "               strong not only as a military power but also as an economic power. Both must go hand-in-hand. \n",
    "               My good fortune was to have worked with three great minds. Dr. Vikram Sarabhai of the Dept. of \n",
    "               space, Professor Satish Dhawan, who succeeded him and Dr. Brahm Prakash, father of nuclear material.\n",
    "               I was lucky to have worked with all three of them closely and consider this the great opportunity of my life. \n",
    "               I see four milestones in my career.\"\"\"\n",
    "\n",
    "print(example_2)"
   ]
  },
  {
   "cell_type": "code",
   "execution_count": 6,
   "metadata": {},
   "outputs": [
    {
     "name": "stdout",
     "output_type": "stream",
     "text": [
      "['I', 'have', 'three', 'visions', 'for', 'India', '.', 'In', '3000', 'years', 'of', 'our', 'history', ',', 'people', 'from', 'all', 'over', 'the', 'world', 'have', 'come', 'and', 'invaded', 'us', ',', 'captured', 'our', 'lands', ',', 'conquered', 'our', 'minds', '.', 'From', 'Alexander', 'onwards', ',', 'the', 'Greeks', ',', 'the', 'Turks', ',', 'the', 'Moguls', ',', 'the', 'Portuguese', ',', 'the', 'British', ',', 'the', 'French', ',', 'the', 'Dutch', ',', 'all', 'of', 'them', 'came', 'and', 'looted', 'us', ',', 'took', 'over', 'what', 'was', 'ours', '.', 'Yet', 'we', 'have', 'not', 'done', 'this', 'to', 'any', 'other', 'nation', '.', 'We', 'have', 'not', 'conquered', 'anyone', '.', 'We', 'have', 'not', 'grabbed', 'their', 'land', ',', 'their', 'culture', ',', 'their', 'history', 'and', 'tried', 'to', 'enforce', 'our', 'way', 'of', 'life', 'on', 'them', '.', 'Why', '?', 'Because', 'we', 'respect', 'the', 'freedom', 'of', 'others.That', 'is', 'why', 'my', 'first', 'vision', 'is', 'that', 'of', 'freedom', '.', 'I', 'believe', 'that', 'India', 'got', 'its', 'first', 'vision', 'of', 'this', 'in', '1857', ',', 'when', 'we', 'started', 'the', 'War', 'of', 'Independence', '.', 'It', 'is', 'this', 'freedom', 'that', 'we', 'must', 'protect', 'and', 'nurture', 'and', 'build', 'on', '.', 'If', 'we', 'are', 'not', 'free', ',', 'no', 'one', 'will', 'respect', 'us', '.', 'My', 'second', 'vision', 'for', 'India', '’', 's', 'development', '.', 'For', 'fifty', 'years', 'we', 'have', 'been', 'a', 'developing', 'nation', '.', 'It', 'is', 'time', 'we', 'see', 'ourselves', 'as', 'a', 'developed', 'nation', '.', 'We', 'are', 'among', 'the', 'top', '5', 'nations', 'of', 'the', 'world', 'in', 'terms', 'of', 'GDP', '.', 'We', 'have', 'a', '10', 'percent', 'growth', 'rate', 'in', 'most', 'areas', '.', 'Our', 'poverty', 'levels', 'are', 'falling', '.', 'Our', 'achievements', 'are', 'being', 'globally', 'recognised', 'today', '.', 'Yet', 'we', 'lack', 'the', 'self-confidence', 'to', 'see', 'ourselves', 'as', 'a', 'developed', 'nation', ',', 'self-reliant', 'and', 'self-assured', '.', 'Isn', '’', 't', 'this', 'incorrect', '?', 'I', 'have', 'a', 'third', 'vision', '.', 'India', 'must', 'stand', 'up', 'to', 'the', 'world', '.', 'Because', 'I', 'believe', 'that', 'unless', 'India', 'stands', 'up', 'to', 'the', 'world', ',', 'no', 'one', 'will', 'respect', 'us', '.', 'Only', 'strength', 'respects', 'strength', '.', 'We', 'must', 'be', 'strong', 'not', 'only', 'as', 'a', 'military', 'power', 'but', 'also', 'as', 'an', 'economic', 'power', '.', 'Both', 'must', 'go', 'hand-in-hand', '.', 'My', 'good', 'fortune', 'was', 'to', 'have', 'worked', 'with', 'three', 'great', 'minds', '.', 'Dr.', 'Vikram', 'Sarabhai', 'of', 'the', 'Dept', '.', 'of', 'space', ',', 'Professor', 'Satish', 'Dhawan', ',', 'who', 'succeeded', 'him', 'and', 'Dr.', 'Brahm', 'Prakash', ',', 'father', 'of', 'nuclear', 'material', '.', 'I', 'was', 'lucky', 'to', 'have', 'worked', 'with', 'all', 'three', 'of', 'them', 'closely', 'and', 'consider', 'this', 'the', 'great', 'opportunity', 'of', 'my', 'life', '.', 'I', 'see', 'four', 'milestones', 'in', 'my', 'career', '.']\n"
     ]
    }
   ],
   "source": [
    "words=word_tokenize(example_2)\n",
    "print(words)"
   ]
  },
  {
   "cell_type": "code",
   "execution_count": 7,
   "metadata": {},
   "outputs": [
    {
     "name": "stdout",
     "output_type": "stream",
     "text": [
      "['I', 'three', 'visions', 'India', '.', 'In', '3000', 'years', 'history', ',', 'people', 'world', 'come', 'invaded', 'us', ',', 'captured', 'lands', ',', 'conquered', 'minds', '.', 'From', 'Alexander', 'onwards', ',', 'Greeks', ',', 'Turks', ',', 'Moguls', ',', 'Portuguese', ',', 'British', ',', 'French', ',', 'Dutch', ',', 'came', 'looted', 'us', ',', 'took', '.', 'Yet', 'done', 'nation', '.', 'We', 'conquered', 'anyone', '.', 'We', 'grabbed', 'land', ',', 'culture', ',', 'history', 'tried', 'enforce', 'way', 'life', '.', 'Why', '?', 'Because', 'respect', 'freedom', 'others.That', 'first', 'vision', 'freedom', '.', 'I', 'believe', 'India', 'got', 'first', 'vision', '1857', ',', 'started', 'War', 'Independence', '.', 'It', 'freedom', 'must', 'protect', 'nurture', 'build', '.', 'If', 'free', ',', 'one', 'respect', 'us', '.', 'My', 'second', 'vision', 'India', '’', 'development', '.', 'For', 'fifty', 'years', 'developing', 'nation', '.', 'It', 'time', 'see', 'developed', 'nation', '.', 'We', 'among', 'top', '5', 'nations', 'world', 'terms', 'GDP', '.', 'We', '10', 'percent', 'growth', 'rate', 'areas', '.', 'Our', 'poverty', 'levels', 'falling', '.', 'Our', 'achievements', 'globally', 'recognised', 'today', '.', 'Yet', 'lack', 'self-confidence', 'see', 'developed', 'nation', ',', 'self-reliant', 'self-assured', '.', 'Isn', '’', 'incorrect', '?', 'I', 'third', 'vision', '.', 'India', 'must', 'stand', 'world', '.', 'Because', 'I', 'believe', 'unless', 'India', 'stands', 'world', ',', 'one', 'respect', 'us', '.', 'Only', 'strength', 'respects', 'strength', '.', 'We', 'must', 'strong', 'military', 'power', 'also', 'economic', 'power', '.', 'Both', 'must', 'go', 'hand-in-hand', '.', 'My', 'good', 'fortune', 'worked', 'three', 'great', 'minds', '.', 'Dr.', 'Vikram', 'Sarabhai', 'Dept', '.', 'space', ',', 'Professor', 'Satish', 'Dhawan', ',', 'succeeded', 'Dr.', 'Brahm', 'Prakash', ',', 'father', 'nuclear', 'material', '.', 'I', 'lucky', 'worked', 'three', 'closely', 'consider', 'great', 'opportunity', 'life', '.', 'I', 'see', 'four', 'milestones', 'career', '.']\n"
     ]
    }
   ],
   "source": [
    "filter_words=[i for i in words if not i in stop_word]\n",
    "print(filter_words)"
   ]
  },
  {
   "cell_type": "code",
   "execution_count": null,
   "metadata": {},
   "outputs": [],
   "source": []
  }
 ],
 "metadata": {
  "kernelspec": {
   "display_name": "Python 3",
   "language": "python",
   "name": "python3"
  },
  "language_info": {
   "codemirror_mode": {
    "name": "ipython",
    "version": 3
   },
   "file_extension": ".py",
   "mimetype": "text/x-python",
   "name": "python",
   "nbconvert_exporter": "python",
   "pygments_lexer": "ipython3",
   "version": "3.7.4"
  }
 },
 "nbformat": 4,
 "nbformat_minor": 2
}
