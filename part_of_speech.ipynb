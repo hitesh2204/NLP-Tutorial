{
 "cells": [
  {
   "cell_type": "markdown",
   "metadata": {},
   "source": [
    "## Part_Of_Speech.\n",
    "\n",
    "The part of speech explains how a word is used in a sentence. There are eight main parts of speech - nouns, pronouns, adjectives, verbs, adverbs, prepositions, conjunctions and interjections."
   ]
  },
  {
   "cell_type": "markdown",
   "metadata": {},
   "source": [
    "## Importing POS library."
   ]
  },
  {
   "cell_type": "code",
   "execution_count": 8,
   "metadata": {},
   "outputs": [],
   "source": [
    "from nltk import pos_tag\n",
    "from nltk.tokenize import word_tokenize,sent_tokenize"
   ]
  },
  {
   "cell_type": "code",
   "execution_count": 9,
   "metadata": {},
   "outputs": [],
   "source": [
    "message=\"Albert Einstein was born in Ulm, Germany in 1879.\""
   ]
  },
  {
   "cell_type": "code",
   "execution_count": 10,
   "metadata": {},
   "outputs": [
    {
     "name": "stdout",
     "output_type": "stream",
     "text": [
      "Albert Einstein was born in Ulm, Germany in 1879.\n"
     ]
    }
   ],
   "source": [
    "print(message)"
   ]
  },
  {
   "cell_type": "markdown",
   "metadata": {},
   "source": [
    "## First we separate the all world by using word_tokenize."
   ]
  },
  {
   "cell_type": "code",
   "execution_count": 11,
   "metadata": {},
   "outputs": [
    {
     "name": "stdout",
     "output_type": "stream",
     "text": [
      "['Albert', 'Einstein', 'was', 'born', 'in', 'Ulm', ',', 'Germany', 'in', '1879', '.']\n"
     ]
    }
   ],
   "source": [
    "word=word_tokenize(message)\n",
    "print(word)"
   ]
  },
  {
   "cell_type": "markdown",
   "metadata": {},
   "source": [
    "## Applying POS tagginf on those word."
   ]
  },
  {
   "cell_type": "code",
   "execution_count": 12,
   "metadata": {},
   "outputs": [
    {
     "name": "stdout",
     "output_type": "stream",
     "text": [
      "[('Albert', 'NNP'), ('Einstein', 'NNP'), ('was', 'VBD'), ('born', 'VBN'), ('in', 'IN'), ('Ulm', 'NNP'), (',', ','), ('Germany', 'NNP'), ('in', 'IN'), ('1879', 'CD'), ('.', '.')]\n"
     ]
    }
   ],
   "source": [
    "pos_word=pos_tag(word)\n",
    "print(pos_word)"
   ]
  },
  {
   "cell_type": "markdown",
   "metadata": {},
   "source": [
    "## Tagging Multiple Sentences..."
   ]
  },
  {
   "cell_type": "code",
   "execution_count": 13,
   "metadata": {},
   "outputs": [],
   "source": [
    "text=\"\"\"The goal was to best the competition. His latest song was a personal best. \n",
    "      Hence, he received the best song of the year award. He played best after a couple of martinis.\"\"\"\n"
   ]
  },
  {
   "cell_type": "code",
   "execution_count": 14,
   "metadata": {},
   "outputs": [
    {
     "name": "stdout",
     "output_type": "stream",
     "text": [
      "The goal was to best the competition. His latest song was a personal best. \n",
      "      Hence, he received the best song of the year award. He played best after a couple of martinis.\n"
     ]
    }
   ],
   "source": [
    "print(text)"
   ]
  },
  {
   "cell_type": "markdown",
   "metadata": {},
   "source": [
    "## first converted into sentence."
   ]
  },
  {
   "cell_type": "code",
   "execution_count": 15,
   "metadata": {},
   "outputs": [
    {
     "name": "stdout",
     "output_type": "stream",
     "text": [
      "['The goal was to best the competition.', 'His latest song was a personal best.', 'Hence, he received the best song of the year award.', 'He played best after a couple of martinis.']\n"
     ]
    }
   ],
   "source": [
    "sentence=sent_tokenize(text)\n",
    "print(sentence)"
   ]
  },
  {
   "cell_type": "markdown",
   "metadata": {},
   "source": [
    "## converted sentence into seperate words."
   ]
  },
  {
   "cell_type": "code",
   "execution_count": 16,
   "metadata": {},
   "outputs": [
    {
     "name": "stdout",
     "output_type": "stream",
     "text": [
      "['The', 'goal', 'was', 'to', 'best', 'the', 'competition', '.', 'His', 'latest', 'song', 'was', 'a', 'personal', 'best', '.', 'Hence', ',', 'he', 'received', 'the', 'best', 'song', 'of', 'the', 'year', 'award', '.', 'He', 'played', 'best', 'after', 'a', 'couple', 'of', 'martinis', '.']\n"
     ]
    }
   ],
   "source": [
    "words=word_tokenize(text)\n",
    "print(words)"
   ]
  },
  {
   "cell_type": "markdown",
   "metadata": {},
   "source": [
    "## Applying POS method on those words."
   ]
  },
  {
   "cell_type": "code",
   "execution_count": 17,
   "metadata": {},
   "outputs": [
    {
     "name": "stdout",
     "output_type": "stream",
     "text": [
      "[('The', 'DT'), ('goal', 'NN'), ('was', 'VBD'), ('to', 'TO'), ('best', 'VB'), ('the', 'DT'), ('competition', 'NN'), ('.', '.'), ('His', 'PRP$'), ('latest', 'JJS'), ('song', 'NN'), ('was', 'VBD'), ('a', 'DT'), ('personal', 'JJ'), ('best', 'NN'), ('.', '.'), ('Hence', 'NNP'), (',', ','), ('he', 'PRP'), ('received', 'VBD'), ('the', 'DT'), ('best', 'JJS'), ('song', 'NN'), ('of', 'IN'), ('the', 'DT'), ('year', 'NN'), ('award', 'RB'), ('.', '.'), ('He', 'PRP'), ('played', 'VBD'), ('best', 'RB'), ('after', 'IN'), ('a', 'DT'), ('couple', 'NN'), ('of', 'IN'), ('martinis', 'NN'), ('.', '.')]\n"
     ]
    }
   ],
   "source": [
    "pos_words=pos_tag(words)\n",
    "print(pos_words)"
   ]
  },
  {
   "cell_type": "code",
   "execution_count": null,
   "metadata": {},
   "outputs": [],
   "source": []
  }
 ],
 "metadata": {
  "kernelspec": {
   "display_name": "Python 3",
   "language": "python",
   "name": "python3"
  },
  "language_info": {
   "codemirror_mode": {
    "name": "ipython",
    "version": 3
   },
   "file_extension": ".py",
   "mimetype": "text/x-python",
   "name": "python",
   "nbconvert_exporter": "python",
   "pygments_lexer": "ipython3",
   "version": "3.7.4"
  }
 },
 "nbformat": 4,
 "nbformat_minor": 2
}
