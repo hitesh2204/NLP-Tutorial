{
 "cells": [
  {
   "cell_type": "markdown",
   "metadata": {},
   "source": [
    "## Stemming.\n",
    "\n",
    "Stemming is the pocess of poducing the root or base word.\n",
    "Example: Like root word of \n",
    "         1)\"likes\"\n",
    "         2)\"liked\"\n",
    "         3)\"likely\"\n",
    "         4)\"liking\".\n",
    "         \n",
    " ## Application of Stemming.\n",
    " 1) Stemming is used in information retrieval systems like search engines.        "
   ]
  },
  {
   "cell_type": "markdown",
   "metadata": {},
   "source": [
    "## Impoting library of stemming."
   ]
  },
  {
   "cell_type": "code",
   "execution_count": 3,
   "metadata": {},
   "outputs": [],
   "source": [
    "from nltk.stem import PorterStemmer\n",
    "from nltk.tokenize import word_tokenize"
   ]
  },
  {
   "cell_type": "code",
   "execution_count": 4,
   "metadata": {},
   "outputs": [],
   "source": [
    "ps=PorterStemmer()"
   ]
  },
  {
   "cell_type": "code",
   "execution_count": 6,
   "metadata": {},
   "outputs": [
    {
     "name": "stdout",
     "output_type": "stream",
     "text": [
      "gone\n",
      "go\n",
      "goe\n",
      "goto\n"
     ]
    }
   ],
   "source": [
    "example=['gone','going','goes','goto']\n",
    "for i in example:\n",
    "    print(ps.stem(i))"
   ]
  },
  {
   "cell_type": "code",
   "execution_count": 9,
   "metadata": {},
   "outputs": [
    {
     "name": "stdout",
     "output_type": "stream",
     "text": [
      "program\n",
      "program\n",
      "program\n",
      "program\n",
      "program\n"
     ]
    }
   ],
   "source": [
    "example_2= [\"program\", \"programs\", \"programer\", \"programing\", \"programers\"] \n",
    "for i in example_2:\n",
    "    print(ps.stem(i))"
   ]
  },
  {
   "cell_type": "code",
   "execution_count": 10,
   "metadata": {},
   "outputs": [
    {
     "name": "stdout",
     "output_type": "stream",
     "text": [
      "I know you are pogrammer.You are prgramming is too good.You became a good programmer in future after writting some had programm.\n"
     ]
    }
   ],
   "source": [
    "example_3=\"I know you are pogrammer.You are prgramming is too good.You became a good programmer in future after writting some had programm.\"\n",
    "print(example_3)"
   ]
  },
  {
   "cell_type": "code",
   "execution_count": 11,
   "metadata": {},
   "outputs": [
    {
     "name": "stdout",
     "output_type": "stream",
     "text": [
      "['I', 'know', 'you', 'are', 'pogrammer.You', 'are', 'prgramming', 'is', 'too', 'good.You', 'became', 'a', 'good', 'programmer', 'in', 'future', 'after', 'writting', 'some', 'had', 'programm', '.']\n"
     ]
    }
   ],
   "source": [
    "word=word_tokenize(example_3)\n",
    "print(word)"
   ]
  },
  {
   "cell_type": "code",
   "execution_count": 13,
   "metadata": {},
   "outputs": [
    {
     "name": "stdout",
     "output_type": "stream",
     "text": [
      "I\n",
      "know\n",
      "you\n",
      "are\n",
      "pogrammer.y\n",
      "are\n",
      "prgram\n",
      "is\n",
      "too\n",
      "good.you\n",
      "becam\n",
      "a\n",
      "good\n",
      "programm\n",
      "in\n",
      "futur\n",
      "after\n",
      "writ\n",
      "some\n",
      "had\n",
      "programm\n",
      ".\n"
     ]
    }
   ],
   "source": [
    "for i in word:\n",
    "    print(ps.stem(i))"
   ]
  },
  {
   "cell_type": "code",
   "execution_count": null,
   "metadata": {},
   "outputs": [],
   "source": []
  }
 ],
 "metadata": {
  "kernelspec": {
   "display_name": "Python 3",
   "language": "python",
   "name": "python3"
  },
  "language_info": {
   "codemirror_mode": {
    "name": "ipython",
    "version": 3
   },
   "file_extension": ".py",
   "mimetype": "text/x-python",
   "name": "python",
   "nbconvert_exporter": "python",
   "pygments_lexer": "ipython3",
   "version": "3.7.4"
  }
 },
 "nbformat": 4,
 "nbformat_minor": 2
}
